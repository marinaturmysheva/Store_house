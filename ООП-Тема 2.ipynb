{
  "cells": [
    {
      "cell_type": "markdown",
      "metadata": {},
      "source": [
        "<h1>Статические методы, методы класса. Дандер методы</h1>\n",
        "<h2>Статические методы</h2>\n",
        "Статические методы — это методы, которые не получают неявного первого аргумента в виде ссылки на экземпляр объекта (как `self`) или на сам класс (как `cls`). Они определяются с использованием декоратора `@staticmethod`. Эти методы могут быть вызваны на уровне класса и на уровне объекта."
      ]
    },
    {
      "cell_type": "code",
      "execution_count": 2,
      "metadata": {},
      "outputs": [
        {
          "name": "stdout",
          "output_type": "stream",
          "text": [
            "8\n",
            "8\n"
          ]
        }
      ],
      "source": [
        "class MathOperations:\n",
        "    @staticmethod\n",
        "    def add(x, y):\n",
        "        return x + y\n",
        "\n",
        "# Вызов статического метода\n",
        "print(MathOperations.add(5, 3))  # Вывод: 8\n",
        "\n",
        "# Можно также вызвать на уровне объекта\n",
        "math_ops = MathOperations()\n",
        "print(math_ops.add(5, 3))  # Вывод: 8\n"
      ]
    },
    {
      "cell_type": "markdown",
      "metadata": {},
      "source": [
        "<h2>Методы класса</h2>\n",
        "Методы класса получают класс в качестве неявного первого аргумента и определяются с использованием декоратора `@classmethod`. Эти методы обычно используются для создания альтернативных конструкторов или для доступа к атрибутам класса."
      ]
    },
    {
      "cell_type": "code",
      "execution_count": 3,
      "metadata": {},
      "outputs": [
        {
          "name": "stdout",
          "output_type": "stream",
          "text": [
            "Михаил\n"
          ]
        }
      ],
      "source": [
        "class Person:\n",
        "    __type = \"Михаил\"\n",
        "\n",
        "    def __init__(self, name):\n",
        "        self.name = name\n",
        "\n",
        "    @classmethod\n",
        "    def get_type(cls):\n",
        "        return cls.__type\n",
        "\n",
        "# Вызов метода класса\n",
        "print(Person.get_type())  # Вывод: Михаил\n"
      ]
    },
    {
      "cell_type": "markdown",
      "metadata": {},
      "source": [
        "<h2>Ключевая разница между методом класса и статическим методом</h2>\n",
        "\n",
        "Ключевая разница между методами класса и статическими методами заключается в том, что методы класса получают сам класс как первый аргумент (cls), тогда как статические методы не получают ни класс, ни экземпляр."
      ]
    },
    {
      "cell_type": "code",
      "execution_count": 5,
      "metadata": {},
      "outputs": [
        {
          "name": "stdout",
          "output_type": "stream",
          "text": [
            "Вызван метод класса. Я - переменная класса\n",
            "Вызван статический метод.\n",
            "Вызван метод класса. Я - переменная класса\n",
            "Вызван статический метод.\n"
          ]
        }
      ],
      "source": [
        "class Example:\n",
        "    class_variable = \"Я - переменная класса\"\n",
        "\n",
        "    def __init__(self, value):\n",
        "        self.instance_variable = value\n",
        "\n",
        "    @classmethod\n",
        "    def class_method(cls):\n",
        "        print(f\"Вызван метод класса. {cls.class_variable}\")\n",
        "\n",
        "    @staticmethod\n",
        "    def static_method():\n",
        "        print(\"Вызван статический метод.\")\n",
        "\n",
        "# Вызов методов на уровне класса\n",
        "Example.class_method()  # Вывод: Вызван метод класса. Я - переменная класса\n",
        "Example.static_method()  # Вывод: Вызван статический метод.\n",
        "\n",
        "# Вызов методов на уровне объекта\n",
        "example_instance = Example(\"I am an instance variable\")\n",
        "example_instance.class_method()  # Вывод: Вызван метод класса. Я - переменная классаe\n",
        "example_instance.static_method()  # Вывод: Вызван статический метод.\n"
      ]
    },
    {
      "cell_type": "markdown",
      "metadata": {},
      "source": [
        "<h2>Дандер методы (магические методы)</h2>\n",
        "Дандер методы (double underscore methods) или магические методы — это специальные методы, которые определяют поведение объектов для встроенных операций Python. Например, методы `__init__`, `__str__`, `__repr__`, `__add__`, `__eq__` и многие другие."
      ]
    },
    {
      "cell_type": "markdown",
      "metadata": {},
      "source": [
        "Примеры использования дандер методов:\n",
        "\n",
        "    Конструктор __init__:"
      ]
    },
    {
      "cell_type": "code",
      "execution_count": 6,
      "metadata": {},
      "outputs": [
        {
          "name": "stdout",
          "output_type": "stream",
          "text": [
            "Михаил\n"
          ]
        }
      ],
      "source": [
        "class Person:\n",
        "    def __init__(self, name, age):\n",
        "        self.name = name\n",
        "        self.age = age\n",
        "\n",
        "person = Person(\"Михаил\", 36)\n",
        "print(person.name)  # Вывод: Михаил\n"
      ]
    },
    {
      "cell_type": "markdown",
      "metadata": {},
      "source": [
        "Метод __str__:"
      ]
    },
    {
      "cell_type": "code",
      "execution_count": 7,
      "metadata": {},
      "outputs": [
        {
          "name": "stdout",
          "output_type": "stream",
          "text": [
            "Человек (Имя = Alice, Возраст = 30)\n"
          ]
        }
      ],
      "source": [
        "class Person:\n",
        "    def __init__(self, name, age):\n",
        "        self.name = name\n",
        "        self.age = age\n",
        "\n",
        "    def __str__(self):\n",
        "        return f\"Человек (Имя = {self.name}, Возраст = {self.age})\"\n",
        "\n",
        "person = Person(\"Alice\", 30)\n",
        "print(person)  # Вывод: Человек (Имя = Alice, Возраст = 30)\n"
      ]
    },
    {
      "cell_type": "markdown",
      "metadata": {},
      "source": [
        "Метод __eq__:"
      ]
    },
    {
      "cell_type": "code",
      "execution_count": 8,
      "metadata": {},
      "outputs": [
        {
          "name": "stdout",
          "output_type": "stream",
          "text": [
            "True\n"
          ]
        }
      ],
      "source": [
        "class Person:\n",
        "    def __init__(self, name, age):\n",
        "        self.name = name\n",
        "        self.age = age\n",
        "\n",
        "    def __eq__(self, other):\n",
        "        return self.name == other.name and self.age == other.age\n",
        "\n",
        "person1 = Person(\"Татьяна\", 30)\n",
        "person2 = Person(\"Татьяна\", 30)\n",
        "print(person1 == person2)  # Вывод: True\n"
      ]
    }
  ],
  "metadata": {
    "colab": {
      "provenance": []
    },
    "kernelspec": {
      "display_name": "Python 3",
      "name": "python3"
    },
    "language_info": {
      "codemirror_mode": {
        "name": "ipython",
        "version": 3
      },
      "file_extension": ".py",
      "mimetype": "text/x-python",
      "name": "python",
      "nbconvert_exporter": "python",
      "pygments_lexer": "ipython3",
      "version": "3.12.4"
    }
  },
  "nbformat": 4,
  "nbformat_minor": 0
}
